{
  "nbformat": 4,
  "nbformat_minor": 0,
  "metadata": {
    "colab": {
      "name": "WY_RLA_2020.ipynb",
      "provenance": [],
      "collapsed_sections": [
        "O6tGxHUqpqVV",
        "HKopa0_EpqVh",
        "MDsPkdRWpqVn",
        "cfItSBnMpqV9"
      ],
      "toc_visible": true
    },
    "kernelspec": {
      "display_name": "Python 3",
      "language": "python",
      "name": "python3"
    },
    "language_info": {
      "codemirror_mode": {
        "name": "ipython",
        "version": 3
      },
      "file_extension": ".py",
      "mimetype": "text/x-python",
      "name": "python",
      "nbconvert_exporter": "python",
      "pygments_lexer": "ipython3",
      "version": "3.7.3"
    }
  },
  "cells": [
    {
      "cell_type": "markdown",
      "metadata": {
        "colab_type": "text",
        "id": "n9wMY-R6pqUP"
      },
      "source": [
        "# Assertion RLA"
      ]
    },
    {
      "cell_type": "markdown",
      "metadata": {
        "colab_type": "text",
        "id": "Wm-0IOlGpqUR"
      },
      "source": [
        "## Overview of the assertion audit tool\n",
        "\n",
        "The tool requires as input:\n",
        "\n",
        "+ audit-specific and contest-specific parameters, such as\n",
        "    - whether to sample with or without replacement\n",
        "    - the name of the risk function to use, and any parameters it requires\n",
        "    - a risk limit for each contest to be audited\n",
        "    - the social choice function for each contest, including the number of winners\n",
        "    - candidate identifiers\n",
        "+ a ballot manifest**\n",
        "+ a random seed\n",
        "+ a file of cast vote records\n",
        "+ reported results for each contest\n",
        "+ json files of assertions for IRV contests (one file per IRV contest)\n",
        "+ human reading of voter intent from the paper cards selected for audit\n",
        "\n",
        "** The ballot manifest could be only for cards purported to contain the\n",
        "contests under audit (manifest_type == \"STYLE\"), or could include cards that might not contain the\n",
        "contest (manifest_type == \"ALL\"). These are treated differently. If the sample is to be drawn only from cards that--according to the CVR--contain the contest, and a sampled card turns out not to\n",
        "contain the contest, that is considered a discrepancy, dealt with using the \"phantoms to zombies\" approach.\n",
        "It is assumed that every CVR corresponds to a card in the manifest, but there might\n",
        "be cards cast in the contest for which there is no corresponding CVR. In that case,\n",
        "phantom records are created to ensure that the audit is still truly risk-limiting.\n",
        "\n",
        "Given an independent (i.e., not relying on the voting system) upper bound on the number of cards that contain the contest, if the number of CVRs that contain the contest does not exceed that bound, we can sample from paper purported to contain the contest and use the \"zombies\" approach (Banuelos & Stark) to deal with missing CVRs. This can greatly increase the efficiency of the audit if the contest is on only a small percentage of the cast cards.\n",
        "\n",
        "Any sampled phantom card (i.e., a card for which there are no CVRs) is treated as if its CVR is a non-vote (which it is), and as if its MVR was least favorable (a \"zombie\" producing the greatest doubt in every assertion, separately). Any sampled card for which\n",
        "there is a CVR is compared to its corresponding CVR. \n",
        "If the card turns out not to contain the contest (despite the fact that the CVR says it does), the MVR is treated in the least favorable way for each assertion (i.e., as a zombie rather than as a non-vote).\n",
        "\n",
        "The tool helps select cards for audit, and reports when the audit has found sufficiently strong evidence to stop.\n",
        "\n",
        "The tool exports a log of all the audit inputs except the CVR file, but including the auditors' manually determined voter intent from the audited cards.\n",
        "\n",
        "The current version uses a single sample to audit all contests. It is possible to refine things to target smaller contests."
      ]
    },
    {
      "cell_type": "code",
      "metadata": {
        "colab_type": "code",
        "id": "NyuWz_jkpqUS",
        "colab": {}
      },
      "source": [
        "from __future__ import division, print_function\n",
        "\n",
        "import math\n",
        "import json\n",
        "import warnings\n",
        "import numpy as np\n",
        "import pandas as pd\n",
        "import csv\n",
        "import copy\n",
        "\n",
        "from collections import OrderedDict\n",
        "from IPython.display import display, HTML\n",
        "\n",
        "from cryptorandom.cryptorandom import SHA256\n",
        "from cryptorandom.sample import sample_by_index\n",
        "\n",
        "from assertion_audit_utils import \\\n",
        "    Assertion, Assorter, CVR, TestNonnegMean, check_audit_parameters, find_margins,\\\n",
        "    find_p_values, find_sample_size, new_sample_size, \\\n",
        "    prep_sample, summarize_status, write_audit_parameters\n",
        "from dominion_tools import \\\n",
        "    prep_dominion_manifest, sample_from_cvr, write_cards_sampled\n"
      ],
      "execution_count": 0,
      "outputs": []
    },
    {
      "cell_type": "markdown",
      "metadata": {
        "colab_type": "text",
        "id": "teG07TCdpqUX"
      },
      "source": [
        "# Audit parameters.\n",
        "\n",
        "* `seed`: the numeric seed for the pseudo-random number generator used to draw sample \n",
        "* `replacement`: whether to sample with replacement. If the sample is drawn with replacement, gamma must also be specified.\n",
        "* `risk_function`: the function to be used to measure risk. Options are `kaplan_markov`,`kaplan_wald`,`kaplan_kolmogorov`,`wald_sprt`,`kaplan_martingale`. Not all risk functions work with every social choice function. `wald_sprt` applies only to plurality contests.\n",
        "* `g`: a parameter to hedge against the possibility of observing a maximum overstatement. Require $g \\in [0, 1)$ for `kaplan_kolmogorov`, `kaplan_markov`, and `kaplan_wald`\n",
        "* `N_cards`: an upper bound on the number of pieces of paper cast in the contest. This should be derived independently of the voting system. A ballot consists of one or more cards.\n",
        "\n",
        "----\n",
        "\n",
        "* `cvr_file`: filename for CVRs (input)\n",
        "* `manifest_file`: filename for ballot manifest (input)\n",
        "* `manifest_type`: \"STYLE\" if the manifest is supposed to list only cards that contain the contests under audit; \"ALL\" if the manifest contains all cards cast in the election\n",
        "* `assertion_file`: filename of assertions for IRV contests, in RAIRE format\n",
        "* `sample_file`: filename for sampled card identifiers (output)\n",
        "* `mvr_file`: filename for manually ascertained votes from sampled cards (input)\n",
        "* `log_file`: filename for audit log (output)\n",
        "\n",
        "----\n",
        "\n",
        "* `error_rate`: expected rate of 1-vote overstatements. Recommended value $\\ge$ 0.001 if there are hand-marked ballots. Larger values increase the initial sample size, but make it more likely that the audit will conclude in a single round if the audit finds errors\n",
        "\n",
        "* `contests`: a dict of contest-specific data \n",
        "    + the keys are unique contest identifiers for contests under audit\n",
        "    + the values are dicts with keys:\n",
        "        - `risk_limit`: the risk limit for the audit of this contest\n",
        "        - `cards_cast`: an upper bound on the number of cast cards that contain the contest\n",
        "        - `choice_function`: `plurality`, `supermajority`, or `IRV`\n",
        "        - `n_winners`: number of winners for majority contests. (Multi-winner IRV not supported; multi-winner super-majority is nonsense)\n",
        "        - `share_to_win`: for super-majority contests, the fraction of valid votes required to win, e.g., 2/3.\n",
        "        - `candidates`: list of names or identifiers of candidates\n",
        "        - `reported_winners` : list of identifier(s) of candidate(s) reported to have won. Length should equal `n_winners`.\n",
        "        - `assertion_file`: filename for a set of json descriptors of Assertions (see technical documentation) that collectively imply the reported outcome of the contest is correct. Required for IRV; ignored for other social choice functions"
      ]
    },
    {
      "cell_type": "code",
      "metadata": {
        "colab_type": "code",
        "id": "gVFOvFb3pqUY",
        "colab": {}
      },
      "source": [
        "seed = 72135370570268865044  # use, e.g., 20 rolls of a 10-sided die. Seed doesn't have to be numeric\n",
        "replacement = False\n",
        "N_cards = 15428 # From Alaska Ballot manifest\n",
        "#risk_function = \"kaplan_martingale\"\n",
        "#risk_fn = lambda x: TestNonnegMean.kaplan_martingale(x, N=N_cards)[0]\n",
        "# In the April 2020 AK audit, kaplan_kolmogorov with g=0.1 would have \n",
        "#    been more efficient:\n",
        "risk_function = \"kaplan_kolmogorov\"\n",
        "risk_fn = lambda x: TestNonnegMean.kaplan_kolmogorov(x, N=N_cards, g=0.1)\n",
        "g=0.1\n"
      ],
      "execution_count": 0,
      "outputs": []
    },
    {
      "cell_type": "code",
      "metadata": {
        "colab_type": "code",
        "id": "pWWkk6qdpqUd",
        "colab": {}
      },
      "source": [
        "cvr_file = './Data/WY/WY_ballots.raire'\n",
        "manifest_file = './Data/WY/BallotManifest_WY.xlsx'\n",
        "manifest_type = 'STYLE'\n",
        "sample_file = 'sample.csv'\n",
        "mvr_file = 'mvr.json'\n",
        "log_file = 'log.json'"
      ],
      "execution_count": 0,
      "outputs": []
    },
    {
      "cell_type": "code",
      "metadata": {
        "colab_type": "code",
        "id": "zNUY9UiypqUg",
        "colab": {}
      },
      "source": [
        "error_rate = 0.002      # expect 2 1-vote overstatements per 1000 ballots"
      ],
      "execution_count": 0,
      "outputs": []
    },
    {
      "cell_type": "code",
      "metadata": {
        "colab_type": "code",
        "id": "rzxOKQ-ipqUl",
        "colab": {}
      },
      "source": [
        "# contests to audit. Edit with details of your contest (eg., Contest 339 is the DA race)\n",
        "contests = {'1':{'risk_limit':0.05,\n",
        "                     'choice_function':'IRV',\n",
        "                     'n_winners':1,\n",
        "                     'candidates':['7','11','1','9','8','5','4','3','12'],\n",
        "                     'reported_winners' : ['1'],\n",
        "                     'assertion_file' : './Data/WY/WY_Assertions.json'\n",
        "                    }\n",
        "           }"
      ],
      "execution_count": 0,
      "outputs": []
    },
    {
      "cell_type": "markdown",
      "metadata": {
        "colab_type": "text",
        "id": "uE_V7qG5pqUo"
      },
      "source": [
        "Example of other social choice functions:\n",
        "\n",
        "> contests =  {'city_council':{'risk_limit':0.05,\n",
        "                     'choice_function':'plurality',\n",
        "                     'n_winners':3,\n",
        "                     'candidates':['Doug','Emily','Frank','Gail','Harry'],\n",
        "                     'reported_winners' : ['Doug', 'Emily', 'Frank']\n",
        "                    },\n",
        "            'measure_1':{'risk_limit':0.05,\n",
        "                     'choice_function':'supermajority',\n",
        "                     'share_to_win':2/3,\n",
        "                     'n_winners':1,\n",
        "                     'candidates':['yes','no'],\n",
        "                     'reported_winners' : ['yes']\n",
        "                    }                  \n",
        "           }"
      ]
    },
    {
      "cell_type": "code",
      "metadata": {
        "colab_type": "code",
        "id": "5jP3ynY8pqUp",
        "colab": {}
      },
      "source": [
        "# read the assertions for the IRV contest\n",
        "for c in contests:\n",
        "    if contests[c]['choice_function'] == 'IRV':\n",
        "        with open(contests[c]['assertion_file'], 'r') as f:\n",
        "            contests[c]['assertion_json'] = json.load(f)['audits'][0]['assertions']"
      ],
      "execution_count": 0,
      "outputs": []
    },
    {
      "cell_type": "code",
      "metadata": {
        "colab_type": "code",
        "id": "zqDDBW_dpqUt",
        "colab": {}
      },
      "source": [
        "# construct the dict of dicts of assertions for each contest\n",
        "all_assertions = Assertion.make_all_assertions(contests)"
      ],
      "execution_count": 0,
      "outputs": []
    },
    {
      "cell_type": "code",
      "metadata": {
        "colab_type": "code",
        "id": "r8zz1PrrpqUw",
        "outputId": "76a0f85d-ead1-4cb0-f7c0-b28255ba3686",
        "scrolled": true,
        "colab": {
          "base_uri": "https://localhost:8080/",
          "height": 161
        }
      },
      "source": [
        "\n",
        "all_assertions"
      ],
      "execution_count": 8,
      "outputs": [
        {
          "output_type": "execute_result",
          "data": {
            "text/plain": [
              "{'1': {'1 v 4': <assertion_audit_utils.Assertion at 0x7f34052d5550>,\n",
              "  '1 v 3': <assertion_audit_utils.Assertion at 0x7f34052cac50>,\n",
              "  '1 v 5': <assertion_audit_utils.Assertion at 0x7f34052ca3c8>,\n",
              "  '1 v 8': <assertion_audit_utils.Assertion at 0x7f34052ca860>,\n",
              "  '1 v 9': <assertion_audit_utils.Assertion at 0x7f34052ca780>,\n",
              "  '1 v 12': <assertion_audit_utils.Assertion at 0x7f34052cf710>,\n",
              "  '1 v 11': <assertion_audit_utils.Assertion at 0x7f34052cfba8>,\n",
              "  '1 v 7': <assertion_audit_utils.Assertion at 0x7f34052cf898>}}"
            ]
          },
          "metadata": {
            "tags": []
          },
          "execution_count": 8
        }
      ]
    },
    {
      "cell_type": "markdown",
      "metadata": {
        "colab_type": "text",
        "id": "SSIoQqAgpqUz"
      },
      "source": [
        "## Read the ballot manifest"
      ]
    },
    {
      "cell_type": "code",
      "metadata": {
        "colab_type": "code",
        "id": "nrrtwdnhpqU0",
        "colab": {}
      },
      "source": [
        "# special for Primary/Dominion manifest format\n",
        "manifest = pd.read_excel(manifest_file)"
      ],
      "execution_count": 0,
      "outputs": []
    },
    {
      "cell_type": "markdown",
      "metadata": {
        "colab_type": "text",
        "id": "mrtOyHWTpqU3"
      },
      "source": [
        "## Read the CVRs "
      ]
    },
    {
      "cell_type": "code",
      "metadata": {
        "colab_type": "code",
        "id": "dKTcULiJpqU3",
        "outputId": "2c48c83a-a5de-4d0e-8464-377c354aac88",
        "colab": {
          "base_uri": "https://localhost:8080/",
          "height": 35
        }
      },
      "source": [
        "cvr_input = []\n",
        "with open(cvr_file) as f:\n",
        "    cvr_reader = csv.reader(f, delimiter=',', quotechar='\"')\n",
        "    for row in cvr_reader:\n",
        "        cvr_input.append(row)\n",
        "\n",
        "print(\"Read {} rows\".format(len(cvr_input)))"
      ],
      "execution_count": 10,
      "outputs": [
        {
          "output_type": "stream",
          "text": [
            "Read 15430 rows\n"
          ],
          "name": "stdout"
        }
      ]
    },
    {
      "cell_type": "code",
      "metadata": {
        "colab_type": "code",
        "id": "XcmMiJrXpqU7",
        "outputId": "a79f2484-e7cf-4be6-f656-a71171bbd512",
        "colab": {
          "base_uri": "https://localhost:8080/",
          "height": 35
        }
      },
      "source": [
        "# Import CVRs\n",
        "cvr_list = CVR.from_raire(cvr_input)\n",
        "print(\"After merging, there are CVRs for {} cards\".format(len(cvr_list)))"
      ],
      "execution_count": 11,
      "outputs": [
        {
          "output_type": "stream",
          "text": [
            "After merging, there are CVRs for 15428 cards\n"
          ],
          "name": "stdout"
        }
      ]
    },
    {
      "cell_type": "code",
      "metadata": {
        "colab_type": "code",
        "id": "qCJlxTWIpqU-",
        "colab": {}
      },
      "source": [
        "# turn RAIRE-style identifiers into Dominion-style by substituting \"-\" for \"_\"\n",
        "for c in cvr_list:\n",
        "    c.set_id(str(c.id).replace(\"_\",\"-\"))"
      ],
      "execution_count": 0,
      "outputs": []
    },
    {
      "cell_type": "code",
      "metadata": {
        "colab_type": "code",
        "id": "ymprLLyZpqVB",
        "outputId": "213e35f7-64de-4843-8d28-828eb526d7cc",
        "colab": {
          "base_uri": "https://localhost:8080/",
          "height": 197
        }
      },
      "source": [
        "for i in range(10):\n",
        "    print(str(cvr_list[i]))"
      ],
      "execution_count": 13,
      "outputs": [
        {
          "output_type": "stream",
          "text": [
            "id: 2-1-1 votes: {'1': {'4': 1}} phantom: False\n",
            "id: 2-1-2 votes: {'1': {'11': 1, '1': 2, '5': 3, '3': 4, '8': 5}} phantom: False\n",
            "id: 2-1-3 votes: {'1': {'1': 1, '4': 2}} phantom: False\n",
            "id: 2-1-4 votes: {'1': {'12': 1, '4': 2, '1': 3, '8': 4, '9': 5}} phantom: False\n",
            "id: 2-1-5 votes: {'1': {'1': 1}} phantom: False\n",
            "id: 2-1-6 votes: {'1': {'1': 1, '11': 2, '4': 3, '8': 4}} phantom: False\n",
            "id: 2-1-7 votes: {'1': {'8': 1, '1': 2}} phantom: False\n",
            "id: 2-1-8 votes: {'1': {'4': 1, '5': 2, '1': 3, '11': 4, '8': 5}} phantom: False\n",
            "id: 2-1-9 votes: {'1': {'1': 1, '4': 2, '8': 3}} phantom: False\n",
            "id: 2-1-10 votes: {'1': {'4': 1, '8': 2, '5': 3, '1': 4, '9': 5}} phantom: False\n"
          ],
          "name": "stdout"
        }
      ]
    },
    {
      "cell_type": "code",
      "metadata": {
        "colab_type": "code",
        "id": "Cnih718VpqVD",
        "outputId": "420060ff-17ac-4350-d350-e9bb0800d4bd",
        "colab": {
          "base_uri": "https://localhost:8080/",
          "height": 1000
        }
      },
      "source": [
        "# Check that there is a CVR for every card cast in the contest. If not, add phantoms.\n",
        "\n",
        "n_cvrs = len(cvr_list)\n",
        "manifest, manifest_cards, phantom_cards = prep_dominion_manifest(manifest, N_cards, n_cvrs)\n",
        "\n",
        "manifest"
      ],
      "execution_count": 14,
      "outputs": [
        {
          "output_type": "execute_result",
          "data": {
            "text/plain": [
              "       State Batch Letter Tabulator ID Batch ID  Ballot Count Transfer Case #  \\\n",
              "0    Wyoming            A            2        1           100          TC-001   \n",
              "1    Wyoming            B            2        2           100          TC-001   \n",
              "2    Wyoming            C            2        3           100          TC-001   \n",
              "3    Wyoming            D            2        4           100          TC-001   \n",
              "4    Wyoming            E            2        5           100          TC-001   \n",
              "5    Wyoming            F            2        6           100          TC-001   \n",
              "6    Wyoming            G            2        7           100          TC-001   \n",
              "7    Wyoming            H            2        8           100          TC-001   \n",
              "8    Wyoming            A            2        9           100          TC-007   \n",
              "9    Wyoming            B            2       10           100          TC-007   \n",
              "10   Wyoming            C            2       11           100          TC-007   \n",
              "11   Wyoming            D            2       12           100          TC-007   \n",
              "12   Wyoming            E            2       13           100          TC-007   \n",
              "13   Wyoming            F            2       14           100          TC-007   \n",
              "14   Wyoming            G            2       15           100          TC-007   \n",
              "15   Wyoming            H            2       16           100          TC-007   \n",
              "16   Wyoming            A            2       17           100          TC-009   \n",
              "17   Wyoming            B            2       18           100          TC-009   \n",
              "18   Wyoming            C            2       19           100          TC-009   \n",
              "19   Wyoming            D            2       20           100          TC-009   \n",
              "20   Wyoming            E            2       21           100          TC-009   \n",
              "21   Wyoming            F            2       22           100          TC-009   \n",
              "22   Wyoming            G            2       23           100          TC-009   \n",
              "23   Wyoming            H            2       24           100          TC-009   \n",
              "24   Wyoming            A            2       25           100          TC-013   \n",
              "25   Wyoming            B            2       26           100          TC-013   \n",
              "26   Wyoming            C            2       27           100          TC-013   \n",
              "27   Wyoming            D            2       28           100          TC-013   \n",
              "28   Wyoming            E            2       29           100          TC-013   \n",
              "29   Wyoming            F            2       30           100          TC-013   \n",
              "..       ...          ...          ...      ...           ...             ...   \n",
              "125  Wyoming            F            4       26           100          TC-004   \n",
              "126  Wyoming            G            4       29           100          TC-004   \n",
              "127  Wyoming            H            4       25           100          TC-004   \n",
              "128  Wyoming            A            4       40           100          TC-005   \n",
              "129  Wyoming            B            4       39           100          TC-005   \n",
              "130  Wyoming            C            4       38            99          TC-005   \n",
              "131  Wyoming            D            4       36           100          TC-005   \n",
              "132  Wyoming            E            4       37           100          TC-005   \n",
              "133  Wyoming            F            4       34           100          TC-005   \n",
              "134  Wyoming            G            4       35           100          TC-005   \n",
              "135  Wyoming            H            4       33           100          TC-005   \n",
              "136  Wyoming            A            4       48           100          TC-006   \n",
              "137  Wyoming            B            4       46           100          TC-006   \n",
              "138  Wyoming            C            4       47           100          TC-006   \n",
              "139  Wyoming            D            4       45           100          TC-006   \n",
              "140  Wyoming            E            4       44           100          TC-006   \n",
              "141  Wyoming            F            4       43           100          TC-006   \n",
              "142  Wyoming            G            4       42           100          TC-006   \n",
              "143  Wyoming            H            4       41           100          TC-006   \n",
              "144  Wyoming            A            4       56           100          TC-016   \n",
              "145  Wyoming            B            4       55           100          TC-016   \n",
              "146  Wyoming            C            4       54           100          TC-016   \n",
              "147  Wyoming            D            4       53           100          TC-016   \n",
              "148  Wyoming            E            4       52           100          TC-016   \n",
              "149  Wyoming            F            4       51            99          TC-016   \n",
              "150  Wyoming            G            4       50           100          TC-016   \n",
              "151  Wyoming            H            4       49           100          TC-016   \n",
              "152  Wyoming          DUP            4       59            33          TC-020   \n",
              "153  Wyoming            E            4       57           100          TC-012   \n",
              "154  Wyoming            F            4       58           100          TC-012   \n",
              "\n",
              "     cum_cards  \n",
              "0          100  \n",
              "1          200  \n",
              "2          300  \n",
              "3          400  \n",
              "4          500  \n",
              "5          600  \n",
              "6          700  \n",
              "7          800  \n",
              "8          900  \n",
              "9         1000  \n",
              "10        1100  \n",
              "11        1200  \n",
              "12        1300  \n",
              "13        1400  \n",
              "14        1500  \n",
              "15        1600  \n",
              "16        1700  \n",
              "17        1800  \n",
              "18        1900  \n",
              "19        2000  \n",
              "20        2100  \n",
              "21        2200  \n",
              "22        2300  \n",
              "23        2400  \n",
              "24        2500  \n",
              "25        2600  \n",
              "26        2700  \n",
              "27        2800  \n",
              "28        2900  \n",
              "29        3000  \n",
              "..         ...  \n",
              "125      12597  \n",
              "126      12697  \n",
              "127      12797  \n",
              "128      12897  \n",
              "129      12997  \n",
              "130      13096  \n",
              "131      13196  \n",
              "132      13296  \n",
              "133      13396  \n",
              "134      13496  \n",
              "135      13596  \n",
              "136      13696  \n",
              "137      13796  \n",
              "138      13896  \n",
              "139      13996  \n",
              "140      14096  \n",
              "141      14196  \n",
              "142      14296  \n",
              "143      14396  \n",
              "144      14496  \n",
              "145      14596  \n",
              "146      14696  \n",
              "147      14796  \n",
              "148      14896  \n",
              "149      14995  \n",
              "150      15095  \n",
              "151      15195  \n",
              "152      15228  \n",
              "153      15328  \n",
              "154      15428  \n",
              "\n",
              "[155 rows x 7 columns]"
            ],
            "text/html": [
              "<div>\n",
              "<style scoped>\n",
              "    .dataframe tbody tr th:only-of-type {\n",
              "        vertical-align: middle;\n",
              "    }\n",
              "\n",
              "    .dataframe tbody tr th {\n",
              "        vertical-align: top;\n",
              "    }\n",
              "\n",
              "    .dataframe thead th {\n",
              "        text-align: right;\n",
              "    }\n",
              "</style>\n",
              "<table border=\"1\" class=\"dataframe\">\n",
              "  <thead>\n",
              "    <tr style=\"text-align: right;\">\n",
              "      <th></th>\n",
              "      <th>State</th>\n",
              "      <th>Batch Letter</th>\n",
              "      <th>Tabulator ID</th>\n",
              "      <th>Batch ID</th>\n",
              "      <th>Ballot Count</th>\n",
              "      <th>Transfer Case #</th>\n",
              "      <th>cum_cards</th>\n",
              "    </tr>\n",
              "  </thead>\n",
              "  <tbody>\n",
              "    <tr>\n",
              "      <th>0</th>\n",
              "      <td>Wyoming</td>\n",
              "      <td>A</td>\n",
              "      <td>2</td>\n",
              "      <td>1</td>\n",
              "      <td>100</td>\n",
              "      <td>TC-001</td>\n",
              "      <td>100</td>\n",
              "    </tr>\n",
              "    <tr>\n",
              "      <th>1</th>\n",
              "      <td>Wyoming</td>\n",
              "      <td>B</td>\n",
              "      <td>2</td>\n",
              "      <td>2</td>\n",
              "      <td>100</td>\n",
              "      <td>TC-001</td>\n",
              "      <td>200</td>\n",
              "    </tr>\n",
              "    <tr>\n",
              "      <th>2</th>\n",
              "      <td>Wyoming</td>\n",
              "      <td>C</td>\n",
              "      <td>2</td>\n",
              "      <td>3</td>\n",
              "      <td>100</td>\n",
              "      <td>TC-001</td>\n",
              "      <td>300</td>\n",
              "    </tr>\n",
              "    <tr>\n",
              "      <th>3</th>\n",
              "      <td>Wyoming</td>\n",
              "      <td>D</td>\n",
              "      <td>2</td>\n",
              "      <td>4</td>\n",
              "      <td>100</td>\n",
              "      <td>TC-001</td>\n",
              "      <td>400</td>\n",
              "    </tr>\n",
              "    <tr>\n",
              "      <th>4</th>\n",
              "      <td>Wyoming</td>\n",
              "      <td>E</td>\n",
              "      <td>2</td>\n",
              "      <td>5</td>\n",
              "      <td>100</td>\n",
              "      <td>TC-001</td>\n",
              "      <td>500</td>\n",
              "    </tr>\n",
              "    <tr>\n",
              "      <th>5</th>\n",
              "      <td>Wyoming</td>\n",
              "      <td>F</td>\n",
              "      <td>2</td>\n",
              "      <td>6</td>\n",
              "      <td>100</td>\n",
              "      <td>TC-001</td>\n",
              "      <td>600</td>\n",
              "    </tr>\n",
              "    <tr>\n",
              "      <th>6</th>\n",
              "      <td>Wyoming</td>\n",
              "      <td>G</td>\n",
              "      <td>2</td>\n",
              "      <td>7</td>\n",
              "      <td>100</td>\n",
              "      <td>TC-001</td>\n",
              "      <td>700</td>\n",
              "    </tr>\n",
              "    <tr>\n",
              "      <th>7</th>\n",
              "      <td>Wyoming</td>\n",
              "      <td>H</td>\n",
              "      <td>2</td>\n",
              "      <td>8</td>\n",
              "      <td>100</td>\n",
              "      <td>TC-001</td>\n",
              "      <td>800</td>\n",
              "    </tr>\n",
              "    <tr>\n",
              "      <th>8</th>\n",
              "      <td>Wyoming</td>\n",
              "      <td>A</td>\n",
              "      <td>2</td>\n",
              "      <td>9</td>\n",
              "      <td>100</td>\n",
              "      <td>TC-007</td>\n",
              "      <td>900</td>\n",
              "    </tr>\n",
              "    <tr>\n",
              "      <th>9</th>\n",
              "      <td>Wyoming</td>\n",
              "      <td>B</td>\n",
              "      <td>2</td>\n",
              "      <td>10</td>\n",
              "      <td>100</td>\n",
              "      <td>TC-007</td>\n",
              "      <td>1000</td>\n",
              "    </tr>\n",
              "    <tr>\n",
              "      <th>10</th>\n",
              "      <td>Wyoming</td>\n",
              "      <td>C</td>\n",
              "      <td>2</td>\n",
              "      <td>11</td>\n",
              "      <td>100</td>\n",
              "      <td>TC-007</td>\n",
              "      <td>1100</td>\n",
              "    </tr>\n",
              "    <tr>\n",
              "      <th>11</th>\n",
              "      <td>Wyoming</td>\n",
              "      <td>D</td>\n",
              "      <td>2</td>\n",
              "      <td>12</td>\n",
              "      <td>100</td>\n",
              "      <td>TC-007</td>\n",
              "      <td>1200</td>\n",
              "    </tr>\n",
              "    <tr>\n",
              "      <th>12</th>\n",
              "      <td>Wyoming</td>\n",
              "      <td>E</td>\n",
              "      <td>2</td>\n",
              "      <td>13</td>\n",
              "      <td>100</td>\n",
              "      <td>TC-007</td>\n",
              "      <td>1300</td>\n",
              "    </tr>\n",
              "    <tr>\n",
              "      <th>13</th>\n",
              "      <td>Wyoming</td>\n",
              "      <td>F</td>\n",
              "      <td>2</td>\n",
              "      <td>14</td>\n",
              "      <td>100</td>\n",
              "      <td>TC-007</td>\n",
              "      <td>1400</td>\n",
              "    </tr>\n",
              "    <tr>\n",
              "      <th>14</th>\n",
              "      <td>Wyoming</td>\n",
              "      <td>G</td>\n",
              "      <td>2</td>\n",
              "      <td>15</td>\n",
              "      <td>100</td>\n",
              "      <td>TC-007</td>\n",
              "      <td>1500</td>\n",
              "    </tr>\n",
              "    <tr>\n",
              "      <th>15</th>\n",
              "      <td>Wyoming</td>\n",
              "      <td>H</td>\n",
              "      <td>2</td>\n",
              "      <td>16</td>\n",
              "      <td>100</td>\n",
              "      <td>TC-007</td>\n",
              "      <td>1600</td>\n",
              "    </tr>\n",
              "    <tr>\n",
              "      <th>16</th>\n",
              "      <td>Wyoming</td>\n",
              "      <td>A</td>\n",
              "      <td>2</td>\n",
              "      <td>17</td>\n",
              "      <td>100</td>\n",
              "      <td>TC-009</td>\n",
              "      <td>1700</td>\n",
              "    </tr>\n",
              "    <tr>\n",
              "      <th>17</th>\n",
              "      <td>Wyoming</td>\n",
              "      <td>B</td>\n",
              "      <td>2</td>\n",
              "      <td>18</td>\n",
              "      <td>100</td>\n",
              "      <td>TC-009</td>\n",
              "      <td>1800</td>\n",
              "    </tr>\n",
              "    <tr>\n",
              "      <th>18</th>\n",
              "      <td>Wyoming</td>\n",
              "      <td>C</td>\n",
              "      <td>2</td>\n",
              "      <td>19</td>\n",
              "      <td>100</td>\n",
              "      <td>TC-009</td>\n",
              "      <td>1900</td>\n",
              "    </tr>\n",
              "    <tr>\n",
              "      <th>19</th>\n",
              "      <td>Wyoming</td>\n",
              "      <td>D</td>\n",
              "      <td>2</td>\n",
              "      <td>20</td>\n",
              "      <td>100</td>\n",
              "      <td>TC-009</td>\n",
              "      <td>2000</td>\n",
              "    </tr>\n",
              "    <tr>\n",
              "      <th>20</th>\n",
              "      <td>Wyoming</td>\n",
              "      <td>E</td>\n",
              "      <td>2</td>\n",
              "      <td>21</td>\n",
              "      <td>100</td>\n",
              "      <td>TC-009</td>\n",
              "      <td>2100</td>\n",
              "    </tr>\n",
              "    <tr>\n",
              "      <th>21</th>\n",
              "      <td>Wyoming</td>\n",
              "      <td>F</td>\n",
              "      <td>2</td>\n",
              "      <td>22</td>\n",
              "      <td>100</td>\n",
              "      <td>TC-009</td>\n",
              "      <td>2200</td>\n",
              "    </tr>\n",
              "    <tr>\n",
              "      <th>22</th>\n",
              "      <td>Wyoming</td>\n",
              "      <td>G</td>\n",
              "      <td>2</td>\n",
              "      <td>23</td>\n",
              "      <td>100</td>\n",
              "      <td>TC-009</td>\n",
              "      <td>2300</td>\n",
              "    </tr>\n",
              "    <tr>\n",
              "      <th>23</th>\n",
              "      <td>Wyoming</td>\n",
              "      <td>H</td>\n",
              "      <td>2</td>\n",
              "      <td>24</td>\n",
              "      <td>100</td>\n",
              "      <td>TC-009</td>\n",
              "      <td>2400</td>\n",
              "    </tr>\n",
              "    <tr>\n",
              "      <th>24</th>\n",
              "      <td>Wyoming</td>\n",
              "      <td>A</td>\n",
              "      <td>2</td>\n",
              "      <td>25</td>\n",
              "      <td>100</td>\n",
              "      <td>TC-013</td>\n",
              "      <td>2500</td>\n",
              "    </tr>\n",
              "    <tr>\n",
              "      <th>25</th>\n",
              "      <td>Wyoming</td>\n",
              "      <td>B</td>\n",
              "      <td>2</td>\n",
              "      <td>26</td>\n",
              "      <td>100</td>\n",
              "      <td>TC-013</td>\n",
              "      <td>2600</td>\n",
              "    </tr>\n",
              "    <tr>\n",
              "      <th>26</th>\n",
              "      <td>Wyoming</td>\n",
              "      <td>C</td>\n",
              "      <td>2</td>\n",
              "      <td>27</td>\n",
              "      <td>100</td>\n",
              "      <td>TC-013</td>\n",
              "      <td>2700</td>\n",
              "    </tr>\n",
              "    <tr>\n",
              "      <th>27</th>\n",
              "      <td>Wyoming</td>\n",
              "      <td>D</td>\n",
              "      <td>2</td>\n",
              "      <td>28</td>\n",
              "      <td>100</td>\n",
              "      <td>TC-013</td>\n",
              "      <td>2800</td>\n",
              "    </tr>\n",
              "    <tr>\n",
              "      <th>28</th>\n",
              "      <td>Wyoming</td>\n",
              "      <td>E</td>\n",
              "      <td>2</td>\n",
              "      <td>29</td>\n",
              "      <td>100</td>\n",
              "      <td>TC-013</td>\n",
              "      <td>2900</td>\n",
              "    </tr>\n",
              "    <tr>\n",
              "      <th>29</th>\n",
              "      <td>Wyoming</td>\n",
              "      <td>F</td>\n",
              "      <td>2</td>\n",
              "      <td>30</td>\n",
              "      <td>100</td>\n",
              "      <td>TC-013</td>\n",
              "      <td>3000</td>\n",
              "    </tr>\n",
              "    <tr>\n",
              "      <th>...</th>\n",
              "      <td>...</td>\n",
              "      <td>...</td>\n",
              "      <td>...</td>\n",
              "      <td>...</td>\n",
              "      <td>...</td>\n",
              "      <td>...</td>\n",
              "      <td>...</td>\n",
              "    </tr>\n",
              "    <tr>\n",
              "      <th>125</th>\n",
              "      <td>Wyoming</td>\n",
              "      <td>F</td>\n",
              "      <td>4</td>\n",
              "      <td>26</td>\n",
              "      <td>100</td>\n",
              "      <td>TC-004</td>\n",
              "      <td>12597</td>\n",
              "    </tr>\n",
              "    <tr>\n",
              "      <th>126</th>\n",
              "      <td>Wyoming</td>\n",
              "      <td>G</td>\n",
              "      <td>4</td>\n",
              "      <td>29</td>\n",
              "      <td>100</td>\n",
              "      <td>TC-004</td>\n",
              "      <td>12697</td>\n",
              "    </tr>\n",
              "    <tr>\n",
              "      <th>127</th>\n",
              "      <td>Wyoming</td>\n",
              "      <td>H</td>\n",
              "      <td>4</td>\n",
              "      <td>25</td>\n",
              "      <td>100</td>\n",
              "      <td>TC-004</td>\n",
              "      <td>12797</td>\n",
              "    </tr>\n",
              "    <tr>\n",
              "      <th>128</th>\n",
              "      <td>Wyoming</td>\n",
              "      <td>A</td>\n",
              "      <td>4</td>\n",
              "      <td>40</td>\n",
              "      <td>100</td>\n",
              "      <td>TC-005</td>\n",
              "      <td>12897</td>\n",
              "    </tr>\n",
              "    <tr>\n",
              "      <th>129</th>\n",
              "      <td>Wyoming</td>\n",
              "      <td>B</td>\n",
              "      <td>4</td>\n",
              "      <td>39</td>\n",
              "      <td>100</td>\n",
              "      <td>TC-005</td>\n",
              "      <td>12997</td>\n",
              "    </tr>\n",
              "    <tr>\n",
              "      <th>130</th>\n",
              "      <td>Wyoming</td>\n",
              "      <td>C</td>\n",
              "      <td>4</td>\n",
              "      <td>38</td>\n",
              "      <td>99</td>\n",
              "      <td>TC-005</td>\n",
              "      <td>13096</td>\n",
              "    </tr>\n",
              "    <tr>\n",
              "      <th>131</th>\n",
              "      <td>Wyoming</td>\n",
              "      <td>D</td>\n",
              "      <td>4</td>\n",
              "      <td>36</td>\n",
              "      <td>100</td>\n",
              "      <td>TC-005</td>\n",
              "      <td>13196</td>\n",
              "    </tr>\n",
              "    <tr>\n",
              "      <th>132</th>\n",
              "      <td>Wyoming</td>\n",
              "      <td>E</td>\n",
              "      <td>4</td>\n",
              "      <td>37</td>\n",
              "      <td>100</td>\n",
              "      <td>TC-005</td>\n",
              "      <td>13296</td>\n",
              "    </tr>\n",
              "    <tr>\n",
              "      <th>133</th>\n",
              "      <td>Wyoming</td>\n",
              "      <td>F</td>\n",
              "      <td>4</td>\n",
              "      <td>34</td>\n",
              "      <td>100</td>\n",
              "      <td>TC-005</td>\n",
              "      <td>13396</td>\n",
              "    </tr>\n",
              "    <tr>\n",
              "      <th>134</th>\n",
              "      <td>Wyoming</td>\n",
              "      <td>G</td>\n",
              "      <td>4</td>\n",
              "      <td>35</td>\n",
              "      <td>100</td>\n",
              "      <td>TC-005</td>\n",
              "      <td>13496</td>\n",
              "    </tr>\n",
              "    <tr>\n",
              "      <th>135</th>\n",
              "      <td>Wyoming</td>\n",
              "      <td>H</td>\n",
              "      <td>4</td>\n",
              "      <td>33</td>\n",
              "      <td>100</td>\n",
              "      <td>TC-005</td>\n",
              "      <td>13596</td>\n",
              "    </tr>\n",
              "    <tr>\n",
              "      <th>136</th>\n",
              "      <td>Wyoming</td>\n",
              "      <td>A</td>\n",
              "      <td>4</td>\n",
              "      <td>48</td>\n",
              "      <td>100</td>\n",
              "      <td>TC-006</td>\n",
              "      <td>13696</td>\n",
              "    </tr>\n",
              "    <tr>\n",
              "      <th>137</th>\n",
              "      <td>Wyoming</td>\n",
              "      <td>B</td>\n",
              "      <td>4</td>\n",
              "      <td>46</td>\n",
              "      <td>100</td>\n",
              "      <td>TC-006</td>\n",
              "      <td>13796</td>\n",
              "    </tr>\n",
              "    <tr>\n",
              "      <th>138</th>\n",
              "      <td>Wyoming</td>\n",
              "      <td>C</td>\n",
              "      <td>4</td>\n",
              "      <td>47</td>\n",
              "      <td>100</td>\n",
              "      <td>TC-006</td>\n",
              "      <td>13896</td>\n",
              "    </tr>\n",
              "    <tr>\n",
              "      <th>139</th>\n",
              "      <td>Wyoming</td>\n",
              "      <td>D</td>\n",
              "      <td>4</td>\n",
              "      <td>45</td>\n",
              "      <td>100</td>\n",
              "      <td>TC-006</td>\n",
              "      <td>13996</td>\n",
              "    </tr>\n",
              "    <tr>\n",
              "      <th>140</th>\n",
              "      <td>Wyoming</td>\n",
              "      <td>E</td>\n",
              "      <td>4</td>\n",
              "      <td>44</td>\n",
              "      <td>100</td>\n",
              "      <td>TC-006</td>\n",
              "      <td>14096</td>\n",
              "    </tr>\n",
              "    <tr>\n",
              "      <th>141</th>\n",
              "      <td>Wyoming</td>\n",
              "      <td>F</td>\n",
              "      <td>4</td>\n",
              "      <td>43</td>\n",
              "      <td>100</td>\n",
              "      <td>TC-006</td>\n",
              "      <td>14196</td>\n",
              "    </tr>\n",
              "    <tr>\n",
              "      <th>142</th>\n",
              "      <td>Wyoming</td>\n",
              "      <td>G</td>\n",
              "      <td>4</td>\n",
              "      <td>42</td>\n",
              "      <td>100</td>\n",
              "      <td>TC-006</td>\n",
              "      <td>14296</td>\n",
              "    </tr>\n",
              "    <tr>\n",
              "      <th>143</th>\n",
              "      <td>Wyoming</td>\n",
              "      <td>H</td>\n",
              "      <td>4</td>\n",
              "      <td>41</td>\n",
              "      <td>100</td>\n",
              "      <td>TC-006</td>\n",
              "      <td>14396</td>\n",
              "    </tr>\n",
              "    <tr>\n",
              "      <th>144</th>\n",
              "      <td>Wyoming</td>\n",
              "      <td>A</td>\n",
              "      <td>4</td>\n",
              "      <td>56</td>\n",
              "      <td>100</td>\n",
              "      <td>TC-016</td>\n",
              "      <td>14496</td>\n",
              "    </tr>\n",
              "    <tr>\n",
              "      <th>145</th>\n",
              "      <td>Wyoming</td>\n",
              "      <td>B</td>\n",
              "      <td>4</td>\n",
              "      <td>55</td>\n",
              "      <td>100</td>\n",
              "      <td>TC-016</td>\n",
              "      <td>14596</td>\n",
              "    </tr>\n",
              "    <tr>\n",
              "      <th>146</th>\n",
              "      <td>Wyoming</td>\n",
              "      <td>C</td>\n",
              "      <td>4</td>\n",
              "      <td>54</td>\n",
              "      <td>100</td>\n",
              "      <td>TC-016</td>\n",
              "      <td>14696</td>\n",
              "    </tr>\n",
              "    <tr>\n",
              "      <th>147</th>\n",
              "      <td>Wyoming</td>\n",
              "      <td>D</td>\n",
              "      <td>4</td>\n",
              "      <td>53</td>\n",
              "      <td>100</td>\n",
              "      <td>TC-016</td>\n",
              "      <td>14796</td>\n",
              "    </tr>\n",
              "    <tr>\n",
              "      <th>148</th>\n",
              "      <td>Wyoming</td>\n",
              "      <td>E</td>\n",
              "      <td>4</td>\n",
              "      <td>52</td>\n",
              "      <td>100</td>\n",
              "      <td>TC-016</td>\n",
              "      <td>14896</td>\n",
              "    </tr>\n",
              "    <tr>\n",
              "      <th>149</th>\n",
              "      <td>Wyoming</td>\n",
              "      <td>F</td>\n",
              "      <td>4</td>\n",
              "      <td>51</td>\n",
              "      <td>99</td>\n",
              "      <td>TC-016</td>\n",
              "      <td>14995</td>\n",
              "    </tr>\n",
              "    <tr>\n",
              "      <th>150</th>\n",
              "      <td>Wyoming</td>\n",
              "      <td>G</td>\n",
              "      <td>4</td>\n",
              "      <td>50</td>\n",
              "      <td>100</td>\n",
              "      <td>TC-016</td>\n",
              "      <td>15095</td>\n",
              "    </tr>\n",
              "    <tr>\n",
              "      <th>151</th>\n",
              "      <td>Wyoming</td>\n",
              "      <td>H</td>\n",
              "      <td>4</td>\n",
              "      <td>49</td>\n",
              "      <td>100</td>\n",
              "      <td>TC-016</td>\n",
              "      <td>15195</td>\n",
              "    </tr>\n",
              "    <tr>\n",
              "      <th>152</th>\n",
              "      <td>Wyoming</td>\n",
              "      <td>DUP</td>\n",
              "      <td>4</td>\n",
              "      <td>59</td>\n",
              "      <td>33</td>\n",
              "      <td>TC-020</td>\n",
              "      <td>15228</td>\n",
              "    </tr>\n",
              "    <tr>\n",
              "      <th>153</th>\n",
              "      <td>Wyoming</td>\n",
              "      <td>E</td>\n",
              "      <td>4</td>\n",
              "      <td>57</td>\n",
              "      <td>100</td>\n",
              "      <td>TC-012</td>\n",
              "      <td>15328</td>\n",
              "    </tr>\n",
              "    <tr>\n",
              "      <th>154</th>\n",
              "      <td>Wyoming</td>\n",
              "      <td>F</td>\n",
              "      <td>4</td>\n",
              "      <td>58</td>\n",
              "      <td>100</td>\n",
              "      <td>TC-012</td>\n",
              "      <td>15428</td>\n",
              "    </tr>\n",
              "  </tbody>\n",
              "</table>\n",
              "<p>155 rows × 7 columns</p>\n",
              "</div>"
            ]
          },
          "metadata": {
            "tags": []
          },
          "execution_count": 14
        }
      ]
    },
    {
      "cell_type": "code",
      "metadata": {
        "colab_type": "code",
        "id": "IkLkEVLNpqVG",
        "outputId": "1acb7f0c-f905-4423-c5c5-8a60d535e011",
        "colab": {
          "base_uri": "https://localhost:8080/",
          "height": 35
        }
      },
      "source": [
        "# Create CVRs and MVRs for phantom cards\n",
        "# If the sample draws a phantom card, these CVRs will be used in the comparison.\n",
        "# phantom MVRs should be treated as zeros by the Assorter for every contest\n",
        "phantom_vrs = []\n",
        "for i in range(phantom_cards):\n",
        "    phantom_vrs.append(CVR(id='phantom-1-'+str(i+1), votes={}, phantom = True))  # matches expected RAIRE id for parsing later\n",
        "    \n",
        "cvr_list = cvr_list + phantom_vrs\n",
        "\n",
        "print(\"Created {} phantom records\".format(len(phantom_vrs)))"
      ],
      "execution_count": 15,
      "outputs": [
        {
          "output_type": "stream",
          "text": [
            "Created 0 phantom records\n"
          ],
          "name": "stdout"
        }
      ]
    },
    {
      "cell_type": "code",
      "metadata": {
        "colab_type": "code",
        "id": "GM9v2XfcpqVK",
        "outputId": "9657fafc-594e-44ac-a4f5-af14ba90affb",
        "colab": {
          "base_uri": "https://localhost:8080/",
          "height": 35
        }
      },
      "source": [
        "manifest_cards"
      ],
      "execution_count": 16,
      "outputs": [
        {
          "output_type": "execute_result",
          "data": {
            "text/plain": [
              "15428"
            ]
          },
          "metadata": {
            "tags": []
          },
          "execution_count": 16
        }
      ]
    },
    {
      "cell_type": "code",
      "metadata": {
        "colab_type": "code",
        "id": "zmq8-hgupqVN",
        "outputId": "8a0333e4-4819-4929-f44f-253866a8d196",
        "colab": {
          "base_uri": "https://localhost:8080/",
          "height": 197
        }
      },
      "source": [
        "# find the mean of the assorters for the CVRs and check whether the assertions are met\n",
        "min_margin = find_margins(contests, all_assertions, cvr_list)\n",
        "\n",
        "print(\"minimum assorter margin {}\".format(min_margin))\n",
        "for c in contests:\n",
        "    print(\"margins in contest {}\".format(c))\n",
        "    for a, m in contests[c]['margins'].items():\n",
        "        print(a, m)"
      ],
      "execution_count": 17,
      "outputs": [
        {
          "output_type": "stream",
          "text": [
            "minimum assorter margin 0.38235675395385016\n",
            "margins in contest 1\n",
            "1 v 4 0.38235675395385016\n",
            "1 v 3 0.635079077002852\n",
            "1 v 5 0.6050038890329272\n",
            "1 v 8 0.5364272750842625\n",
            "1 v 9 0.633264194970184\n",
            "1 v 12 0.6343012704174229\n",
            "1 v 11 0.5942442312678247\n",
            "1 v 7 0.6189395903551984\n"
          ],
          "name": "stdout"
        }
      ]
    },
    {
      "cell_type": "code",
      "metadata": {
        "colab_type": "code",
        "id": "qDGkgIBhpqVQ",
        "colab": {}
      },
      "source": [
        "check_audit_parameters(risk_function, g, error_rate, contests)"
      ],
      "execution_count": 0,
      "outputs": []
    },
    {
      "cell_type": "code",
      "metadata": {
        "colab_type": "code",
        "id": "DprZYSvQpqVS",
        "colab": {}
      },
      "source": [
        "write_audit_parameters(log_file, seed, replacement, risk_function, g, N_cards, n_cvrs, \\\n",
        "                       manifest_cards, phantom_cards, error_rate, contests)"
      ],
      "execution_count": 0,
      "outputs": []
    },
    {
      "cell_type": "markdown",
      "metadata": {
        "colab_type": "text",
        "id": "O6tGxHUqpqVV"
      },
      "source": [
        "## Set up for sampling"
      ]
    },
    {
      "cell_type": "markdown",
      "metadata": {
        "colab_type": "text",
        "id": "34ppo76EpqVV"
      },
      "source": [
        "## Find initial sample size"
      ]
    },
    {
      "cell_type": "code",
      "metadata": {
        "colab_type": "code",
        "id": "AUGVvms5pqVW",
        "outputId": "dadecd97-05b9-4f00-856d-a75250d94683",
        "colab": {
          "base_uri": "https://localhost:8080/",
          "height": 53
        }
      },
      "source": [
        "# find initial sample size\n",
        "ss_fn = lambda m, r: TestNonnegMean.initial_sample_size(\\\n",
        "                        risk_function=risk_fn, N=N_cards, margin=m,\\\n",
        "                        error_rate=error_rate, alpha=r)\n",
        "sample_size = find_sample_size(contests, all_assertions, sample_size_function=ss_fn)\n",
        "print(sample_size)\n",
        "sample_size = 20\n",
        "print(sample_size)"
      ],
      "execution_count": 20,
      "outputs": [
        {
          "output_type": "stream",
          "text": [
            "17\n",
            "20\n"
          ],
          "name": "stdout"
        }
      ]
    },
    {
      "cell_type": "markdown",
      "metadata": {
        "colab_type": "text",
        "id": "m9j8A8gZpqVY"
      },
      "source": [
        "## Draw the first sample"
      ]
    },
    {
      "cell_type": "code",
      "metadata": {
        "colab_type": "code",
        "id": "I75rMq1epqVZ",
        "outputId": "d590c933-d308-40d8-ba4e-741dfb0b4699",
        "colab": {
          "base_uri": "https://localhost:8080/",
          "height": 35
        }
      },
      "source": [
        "# draw the initial sample\n",
        "prng = SHA256(seed)\n",
        "sample = sample_by_index(N_cards, sample_size, prng=prng) # 1-indexed\n",
        "n_phantom_sample = np.sum([cvr_list[i].phantom for i in sample])\n",
        "print(\"The sample includes {} phantom cards.\".format(n_phantom_sample))"
      ],
      "execution_count": 21,
      "outputs": [
        {
          "output_type": "stream",
          "text": [
            "The sample includes 0 phantom cards.\n"
          ],
          "name": "stdout"
        }
      ]
    },
    {
      "cell_type": "code",
      "metadata": {
        "colab_type": "code",
        "id": "gdqQoQS3pqVb",
        "colab": {}
      },
      "source": [
        "cvr_sample_lookup, cvr_sample, mvr_phantoms_sample = sample_from_cvr(cvr_list, manifest, sample)"
      ],
      "execution_count": 0,
      "outputs": []
    },
    {
      "cell_type": "code",
      "metadata": {
        "colab_type": "code",
        "id": "XJ4Qe5w4pqVe",
        "colab": {}
      },
      "source": [
        "# write the sample\n",
        "write_cards_sampled(sample_file, cvr_sample_lookup, print_phantoms=False)"
      ],
      "execution_count": 0,
      "outputs": []
    },
    {
      "cell_type": "markdown",
      "metadata": {
        "colab_type": "text",
        "id": "HKopa0_EpqVh"
      },
      "source": [
        "## Read the audited sample data"
      ]
    },
    {
      "cell_type": "code",
      "metadata": {
        "colab_type": "code",
        "id": "NYmletNYpqVi",
        "colab": {}
      },
      "source": [
        "with open(mvr_file) as f:\n",
        "    mvr_json = json.load(f)\n",
        "\n",
        "mvr_sample = CVR.from_dict(mvr_json['ballots'])"
      ],
      "execution_count": 0,
      "outputs": []
    },
    {
      "cell_type": "code",
      "metadata": {
        "colab_type": "code",
        "id": "4iikigZGpqVk",
        "colab": {}
      },
      "source": [
        "# add MVRs for phantoms\n",
        "mvr_sample = mvr_sample + mvr_phantoms_sample"
      ],
      "execution_count": 0,
      "outputs": []
    },
    {
      "cell_type": "markdown",
      "metadata": {
        "colab_type": "text",
        "id": "MDsPkdRWpqVn"
      },
      "source": [
        "## Find measured risks for all assertions"
      ]
    },
    {
      "cell_type": "code",
      "metadata": {
        "colab_type": "code",
        "id": "QdI3k0rqpqVo",
        "outputId": "5d1f3814-ffc8-4ad5-9c5a-08e099ab69bf",
        "colab": {
          "base_uri": "https://localhost:8080/",
          "height": 233
        }
      },
      "source": [
        "prep_sample(mvr_sample, cvr_sample)\n",
        "p_max = find_p_values(contests, all_assertions, mvr_sample, cvr_sample, manifest_type, \\\n",
        "                      risk_function= risk_fn)\n",
        "print(\"maximum assertion p-value {}\".format(p_max))\n",
        "done = summarize_status(contests, all_assertions)"
      ],
      "execution_count": 26,
      "outputs": [
        {
          "output_type": "stream",
          "text": [
            "maximum assertion p-value 0.027409774202528284\n",
            "p-values for assertions in contest 1\n",
            "1 v 4 0.027409774202528284\n",
            "1 v 3 0.0014207361644163214\n",
            "1 v 5 0.0020844675993174615\n",
            "1 v 8 0.0048303092003429415\n",
            "1 v 9 0.0014543733676772481\n",
            "1 v 12 0.001435061907128555\n",
            "1 v 11 0.002385497881384822\n",
            "1 v 7 0.0017472686526191757\n",
            "\n",
            "contest 1 AUDIT COMPLETE at risk limit 0.05. Attained risk 0.027409774202528284\n"
          ],
          "name": "stdout"
        }
      ]
    },
    {
      "cell_type": "code",
      "metadata": {
        "colab_type": "code",
        "id": "iIyagEXTpqVq",
        "colab": {}
      },
      "source": [
        "# Log the status of the audit \n",
        "write_audit_parameters(log_file, seed, replacement, risk_function, g, N_cards, n_cvrs, \\\n",
        "                       manifest_cards, phantom_cards, error_rate, contests)"
      ],
      "execution_count": 0,
      "outputs": []
    },
    {
      "cell_type": "markdown",
      "metadata": {
        "colab_type": "text",
        "id": "P1rBd_ympqVs"
      },
      "source": [
        "# How many more cards should be audited?\n",
        "\n",
        "Estimate how many more cards will need to be audited to confirm any remaining contests. The enlarged sample size is based on:\n",
        "\n",
        "* cards already sampled\n",
        "* the assumption that we will continue to see errors at the same rate observed in the sample"
      ]
    },
    {
      "cell_type": "code",
      "metadata": {
        "colab_type": "code",
        "id": "qb_hZzjLpqVt",
        "outputId": "44575ae2-ae3f-47a7-b97a-f6c1dfa9085e",
        "colab": {
          "base_uri": "https://localhost:8080/",
          "height": 35
        }
      },
      "source": [
        "# Estimate sample size required to confirm the outcome, if errors continue\n",
        "# at the same rate as already observed.\n",
        "\n",
        "new_size, sams = new_sample_size(contests, all_assertions, mvr_sample,\\\n",
        "                                 cvr_sample, manifest_type,\\\n",
        "                                 risk_fn, quantile=0.8, reps=100)\n",
        "new_size"
      ],
      "execution_count": 0,
      "outputs": [
        {
          "output_type": "stream",
          "text": [
            "/Users/stark/anaconda3/lib/python3.7/site-packages/numpy/core/fromnumeric.py:90: RuntimeWarning: overflow encountered in reduce\n",
            "  return ufunc.reduce(obj, axis, dtype, out, **passkwargs)\n"
          ],
          "name": "stderr"
        },
        {
          "output_type": "execute_result",
          "data": {
            "text/plain": [
              "114.0"
            ]
          },
          "metadata": {
            "tags": []
          },
          "execution_count": 28
        }
      ]
    },
    {
      "cell_type": "code",
      "metadata": {
        "colab_type": "code",
        "id": "Dj5reTm3pqVv",
        "colab": {}
      },
      "source": [
        "# augment the sample\n",
        "# reset the seed\n",
        "prng = SHA256(seed)\n",
        "old_sample = sample\n",
        "sample = sample_by_index(N_cards, new_size, prng=prng)  # sampling without replacement\n",
        "incremental_sample = np.sort(list(set(sample) - set(old_sample)))\n",
        "n_phantom_sample = np.sum([cvr_list[i].phantom for i in incremental_sample])\n",
        "print(\"The incremental sample includes {} phantom cards.\".format(n_phantom_sample))"
      ],
      "execution_count": 0,
      "outputs": []
    },
    {
      "cell_type": "code",
      "metadata": {
        "colab_type": "code",
        "id": "wGUT8sr-pqVy",
        "colab": {}
      },
      "source": [
        "cvr_sample_lookup_new, cvr_sample_new, mvr_phantoms_sample_new = \\\n",
        "                sample_from_cvr(cvr_list, manifest, incremental_sample)\n",
        "write_cards_sampled(sample_file, cvr_sample_lookup_new, print_phantoms=False)"
      ],
      "execution_count": 0,
      "outputs": []
    },
    {
      "cell_type": "code",
      "metadata": {
        "colab_type": "code",
        "id": "bdiqbkhppqV0",
        "colab": {}
      },
      "source": [
        "# mvr_json should contain the complete set of mvrs, including those in previous rounds\n",
        "\n",
        "with open(mvr_file) as f:\n",
        "    mvr_json = json.load(f)\n",
        "\n",
        "mvr_sample = CVR.from_dict(mvr_json['ballots']) "
      ],
      "execution_count": 0,
      "outputs": []
    },
    {
      "cell_type": "code",
      "metadata": {
        "colab_type": "code",
        "id": "Mv0Wx_0vpqV3",
        "colab": {}
      },
      "source": [
        "# compile entire sample\n",
        "cvr_sample_lookup, cvr_sample, mvr_phantoms_sample = sample_from_cvr(cvr_list, manifest, sample)"
      ],
      "execution_count": 0,
      "outputs": []
    },
    {
      "cell_type": "code",
      "metadata": {
        "colab_type": "code",
        "id": "zB6LSYXVpqV6",
        "colab": {}
      },
      "source": [
        "# add MVRs for phantoms\n",
        "mvr_sample = mvr_sample + mvr_phantoms_sample"
      ],
      "execution_count": 0,
      "outputs": []
    },
    {
      "cell_type": "markdown",
      "metadata": {
        "colab_type": "text",
        "id": "cfItSBnMpqV9"
      },
      "source": [
        "## Find measured risks for all assertions"
      ]
    },
    {
      "cell_type": "code",
      "metadata": {
        "colab_type": "code",
        "id": "xe4CWXI9pqV9",
        "colab": {}
      },
      "source": [
        "prep_sample(mvr_sample, cvr_sample)\n",
        "p_max = find_p_values(contests, all_assertions, mvr_sample, cvr_sample, manifest_type, \\\n",
        "                      risk_function= risk_fn)\n",
        "print(\"maximum assertion p-value {}\".format(p_max))\n",
        "done = summarize_status(contests, all_assertions)"
      ],
      "execution_count": 0,
      "outputs": []
    },
    {
      "cell_type": "code",
      "metadata": {
        "colab_type": "code",
        "id": "aUbXEfcdpqV_",
        "colab": {}
      },
      "source": [
        "# Log the status of the audit \n",
        "write_audit_parameters(log_file, seed, replacement, risk_function, g, N_cards, n_cvrs, \\\n",
        "                       manifest_cards, phantom_cards, error_rate, contests)"
      ],
      "execution_count": 0,
      "outputs": []
    }
  ]
}