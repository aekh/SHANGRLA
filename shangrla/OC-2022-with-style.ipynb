{
 "cells": [
  {
   "cell_type": "code",
   "execution_count": 1,
   "id": "cd13d440-8b18-4d27-9d97-8ca9a9be5a1f",
   "metadata": {},
   "outputs": [],
   "source": [
    "import math\n",
    "import json\n",
    "import warnings\n",
    "import numpy as np\n",
    "import pandas as pd\n",
    "import csv\n",
    "import copy\n",
    "import matplotlib.pyplot as plt\n",
    "\n",
    "from collections import OrderedDict\n",
    "from IPython.display import display, HTML\n",
    "\n",
    "from cryptorandom.cryptorandom import SHA256, int_from_hash\n",
    "from cryptorandom.sample import sample_by_index\n",
    "\n",
    "from Audit import Audit, Assertion, Assorter, Contest, CVR, Stratum\n",
    "from NonnegMean import NonnegMean\n",
    "from Dominion import Dominion\n",
    "from Hart import Hart"
   ]
  },
  {
   "cell_type": "code",
   "execution_count": 3,
   "id": "8b18ea42-607d-42fc-be09-ab89be5141a2",
   "metadata": {},
   "outputs": [],
   "source": [
    "audit = Audit.from_dict({\n",
    "         'seed':           12345678901234567890,\n",
    "         'sim_seed':       314159265,\n",
    "         'cvr_file':       '/Users/amanda/Downloads/cvrs.zip', \n",
    "         #'cvr_file':       '/Users/Jake/Desktop/OC CVRs/2022/cvrs.zip', \n",
    "         #'manifest_file':  'Data/OC_mock_manifest_detailed.xlsx',\n",
    "         'manifest_file': 'Data/OC_nov22_full_manifest.xlsx',\n",
    "         #'manifest_file': 'tests/Data/Hart_manifest.xlsx',\n",
    "         'sample_file':    '',\n",
    "         'mvr_file':       '',\n",
    "         'log_file':       'Data/OC_example_log.json',\n",
    "         'quantile':       0.8,\n",
    "         'error_rate_1': 0,\n",
    "         'error_rate_2': 0,\n",
    "         #'error_rate_1':   0.001,\n",
    "         #'error_rate_2':   0.0001,\n",
    "         'reps':           100,\n",
    "         'strata':         {'stratum_1': {'max_cards':   1989416, \n",
    "                                          'use_style':   True,\n",
    "                                          'replacement': False,\n",
    "                                          'audit_type':  Audit.AUDIT_TYPE.BALLOT_COMPARISON,\n",
    "                                          'test':        NonnegMean.alpha_mart,\n",
    "                                          'estimator':   NonnegMean.optimal_comparison,\n",
    "                                          'test_kwargs': {}\n",
    "                                         }\n",
    "                           }\n",
    "        })\n",
    "\n",
    "# find upper bound on total cards across strata\n",
    "audit.max_cards = np.sum([s.max_cards for s in audit.strata.values()])"
   ]
  },
  {
   "cell_type": "code",
   "execution_count": null,
   "id": "5efc9f41-9706-4401-a38c-3f1d1382acb1",
   "metadata": {},
   "outputs": [],
   "source": [
    "%%time\n",
    "cvr_list = Hart.read_cvrs_zip(audit.cvr_file)"
   ]
  },
  {
   "cell_type": "code",
   "execution_count": null,
   "id": "c0df5a2d-a2c5-41ea-a652-ebd9fdc590ec",
   "metadata": {},
   "outputs": [],
   "source": [
    "votes = CVR.tabulate_votes(cvr_list)\n",
    "styles = CVR.tabulate_styles(cvr_list)\n",
    "cards = CVR.tabulate_cards_contests(cvr_list)"
   ]
  },
  {
   "cell_type": "code",
   "execution_count": null,
   "id": "e25a22c6-d20a-4590-b884-9bcd4fee7741",
   "metadata": {},
   "outputs": [],
   "source": [
    "#make dict of all contests in CVRs\n",
    "contests = Contest.from_cvr_list(audit, votes, cards, cvr_list)"
   ]
  },
  {
   "cell_type": "code",
   "execution_count": null,
   "id": "ecf7fb7c-83bf-42a3-8125-d1600a11c6c1",
   "metadata": {},
   "outputs": [],
   "source": [
    "# Create array of vote for 2 contests TO DO\n",
    "## Data from https://ocvote.gov/data/election-results-archives\n",
    "vote_for_two = [\n",
    "    'CITY OF ALISO VIEJO\\nMember, City Council',\n",
    "    'CITY OF IRVINE\\nMember, City Council',\n",
    "    'CITY OF LAGUNA NIGUEL\\nMember, City Council',\n",
    "    'CITY OF LAGUNA WOODS\\nMember, City Council',\n",
    "    'CITY OF LA HABRA\\nMember, City Council, Full Term',\n",
    "    'CITY OF LA PALMA\\nMember, City Council',\n",
    "    'CITY OF YORBA LINDA\\nMember, City Council',\n",
    "    'ROSSMOOR COMMUNITY SERVICES DISTRICT\\nDirector'\n",
    "               ]\n",
    "# Create array of vote for 3 contests TO DO\n",
    "vote_for_three = [\n",
    "    'YORBA LINDA WATER DISTRICT\\nDirector',\n",
    "    'MOULTON NIGUEL WATER DISTRICT\\nDirector',\n",
    "    'MIDWAY CITY SANITARY DISTRICT\\nDirector',\n",
    "    'CITY OF LAGUNA HILLS\\nMember, City Council, Full Term',\n",
    "    'CITY OF FOUNTAIN VALLEY\\nMember, City Council',\n",
    "    'CITY OF CYPRESS\\nMember, City Council',\n",
    "    'HUNTINGTON BEACH UNION HIGH SCHOOL DISTRICT\\nGoverning Board Member',\n",
    "    'FOUNTAIN VALLEY SCHOOL DISTRICT\\nGoverning Board Member',\n",
    "    'LA HABRA CITY SCHOOL DISTRICT\\nGoverning Board Member',\n",
    "    'OCEAN VIEW SCHOOL DISTRICT\\nGoverning Board Member',\n",
    "    'CITY OF BREA\\nMember, City Council',\n",
    "    'CITY OF LAGUNA BEACH\\nMember, City Council',\n",
    "    'RANCHO SANTA MARGARITA\\nMember, City Council',\n",
    "    'CITY OF SAN CLEMENTE\\nMember, City Council',\n",
    "    'CITY OF VILLA PARK\\nMember, City Council',\n",
    "    'SILVERADO-MODJESKA RECREATION AND PARK DISTRICT\\nDirector'\n",
    "                 ]\n",
    "# Update dictionary with correct n_winners\n",
    "for con in vote_for_two:\n",
    "    contests[con].n_winners = 2\n",
    "    \n",
    "for con in vote_for_three:\n",
    "    contests[con].n_winners = 3\n",
    "\n",
    "contests['CITY OF HUNTINGTON BEACH\\nMember, City Council'].n_winners = 4 \n",
    "# TO DO: UPDATE WINNERS FOR THESE CONTESTS"
   ]
  },
  {
   "cell_type": "code",
   "execution_count": null,
   "id": "c70e2028-fdab-4ecf-b5d6-6f3225cddcd3",
   "metadata": {},
   "outputs": [],
   "source": [
    "contests['CITY OF ALISO VIEJO\\nMember, City Council'].winner = ['TIFFANY ACKLEY','MAX DUNCAN']\n",
    "contests['CITY OF IRVINE\\nMember, City Council'].winner = ['LARRY AGRAN','KATHLEEN TRESEDER']\n",
    "contests['CITY OF LAGUNA NIGUEL\\nMember, City Council'].winner = ['STEPHANIE ODDO','RAY GENNAWEY']\n",
    "contests['CITY OF LAGUNA WOODS\\nMember, City Council'].winner = ['CAROL MOORE','ANNIE MCCARY']\n",
    "contests['CITY OF LA HABRA\\nMember, City Council, Full Term'].winner = ['JOSE MEDRANO','JAMES \"JIM\" GOMEZ']\n",
    "contests['CITY OF LA PALMA\\nMember, City Council'].winner = ['NITESH PATEL','JANET K. CONKLIN']\n",
    "contests['CITY OF YORBA LINDA\\nMember, City Council'].winner = ['CARLOS RODRIGUEZ','JANICE LIM']\n",
    "contests['ROSSMOOR COMMUNITY SERVICES DISTRICT\\nDirector'].winner = ['MICHAEL MAYNARD','JO SHADE']\n",
    "\n",
    "contests['YORBA LINDA WATER DISTRICT\\nDirector'].winner = ['PHILLIP (PHIL) D. HAWKINS','THOMAS LINDSEY','BRETT R. BARBRE']\n",
    "contests['MOULTON NIGUEL WATER DISTRICT\\nDirector'].winner = ['DIANE RIFKIN', 'WILLIAM \"BILL\" MOORHEAD', 'DONALD R. FROELICH']\n",
    "contests['MIDWAY CITY SANITARY DISTRICT\\nDirector'].winner = ['ANDREW NGUYEN','SERGIO CONTRERAS','MARK NGUYEN']\n",
    "contests['SILVERADO-MODJESKA RECREATION AND PARK DISTRICT\\nDirector'].winner = ['LAURIE MARTZ','BRITTNEY KUHN','TED WRIGHT']\n",
    "contests['CITY OF VILLA PARK\\nMember, City Council'].winner = ['CRYSTAL K. MILES','NICOL JONES','JORDAN WU']\n",
    "contests['CITY OF SAN CLEMENTE\\nMember, City Council'].winner = ['VICTOR CABRAL','MARK ENMEIER','STEVEN \"STEVE\" KNOBLOCK']\n",
    "contests['RANCHO SANTA MARGARITA\\nMember, City Council'].winner = ['ANNE FIGUEROA', 'BRAD MCGIRR', 'JERRY HOLLOWAY']\n",
    "contests['CITY OF LAGUNA HILLS\\nMember, City Council, Full Term'].winner = ['ERICA PEZOLD', 'DAVID WHEELER','JOSHUA SWEENEY']\n",
    "contests['CITY OF LAGUNA BEACH\\nMember, City Council'].winner = ['ALEX ROUNAGHI','SUE KEMPF','MARK S. ORGILL']\n",
    "contests['CITY OF FOUNTAIN VALLEY\\nMember, City Council'].winner = ['JIM CUNNEEN','KIM CONSTANTINE','PATRICK HARPER']\n",
    "contests['CITY OF CYPRESS\\nMember, City Council'].winner = ['DAVID BURKE','SCOTT MINIKUS','BONNIE PEAT']\n",
    "contests['CITY OF BREA\\nMember, City Council'].winner = ['STEVEN C. VARGAS','BLAIR STEWART','CECILIA HUPP']\n",
    "contests['HUNTINGTON BEACH UNION HIGH SCHOOL DISTRICT\\nGoverning Board Member'].winner = ['DUANE DISHNO', 'BONNIE CASTREY', 'DIANA LEE CAREY']\n",
    "contests['FOUNTAIN VALLEY SCHOOL DISTRICT\\nGoverning Board Member'].winner = ['SANDRA CRANDALL', 'DENNIS COLE', 'PHU NGUYEN']\n",
    "contests['LA HABRA CITY SCHOOL DISTRICT\\nGoverning Board Member'].winner = ['ADAM ROGERS','CYNTHIA AGUIRRE','EMILY PRUITT']\n",
    "contests['OCEAN VIEW SCHOOL DISTRICT\\nGoverning Board Member'].winner = ['PATRICIA SINGER','JACK SOUDERS','MORGAN WESTMORELAND']\n",
    "\n",
    "contests['CITY OF HUNTINGTON BEACH\\nMember, City Council'].winner = ['PAT BURNS','TONY STRICKLAND','GRACEY VAN DER MARK','CASEY MCKEON']"
   ]
  },
  {
   "cell_type": "code",
   "execution_count": null,
   "id": "247dc5dc-c150-46e9-94ca-91b100f371df",
   "metadata": {},
   "outputs": [],
   "source": [
    "# construct the dict of dicts of assertions for each contest\n",
    "Assertion.make_all_assertions(contests)"
   ]
  },
  {
   "cell_type": "code",
   "execution_count": null,
   "id": "9d16526c-24f4-45ce-947a-143c4273b4c5",
   "metadata": {},
   "outputs": [],
   "source": [
    "audit.check_audit_parameters(contests)"
   ]
  }
 ],
 "metadata": {
  "kernelspec": {
   "display_name": "Python 3 (ipykernel)",
   "language": "python",
   "name": "python3"
  },
  "language_info": {
   "codemirror_mode": {
    "name": "ipython",
    "version": 3
   },
   "file_extension": ".py",
   "mimetype": "text/x-python",
   "name": "python",
   "nbconvert_exporter": "python",
   "pygments_lexer": "ipython3",
   "version": "3.9.13"
  }
 },
 "nbformat": 4,
 "nbformat_minor": 5
}
